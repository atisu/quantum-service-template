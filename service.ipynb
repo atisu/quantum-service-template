{
 "cells": [
  {
   "cell_type": "markdown",
   "metadata": {},
   "source": [
    "This notebook can be used as a skeleton for containerizing existing Jupyter Notebooks and exposing them via a REST API.\n",
    "\n",
    "There are two special cells in this notebook:\n",
    "\n",
    "1. The first cell containing code, tagged with \"parameters\". Each variable defined there is considered as a variable for the service. These variables will be exposed as input (i.e., you can set their values) at the REST API. You can define as many variables as you wish there.\n",
    "\n",
    "2. The last cell containing code, tagged with \"results\". Everything written to stdout in that cell will be returned by the service as\n",
    "the response of the service call."
   ]
  },
  {
   "cell_type": "markdown",
   "metadata": {},
   "source": [
    "# The Service"
   ]
  },
  {
   "cell_type": "code",
   "execution_count": 3,
   "metadata": {
    "tags": [
     "parameters"
    ]
   },
   "outputs": [],
   "source": [
    "''' This cell is tagged with the \"parameters\" tag. Each variable defined here is considered as a variable for the service.\n",
    "These variables will be exposed as input (i.e., you can set their values) at the REST API.\n",
    " You can define as many variables as you wish here. '''\n",
    "\n",
    "DWAVE_TOKEN = \"\"\n",
    "seed = 123\n",
    "node_count = 30\n",
    "travel_start = 1"
   ]
  },
  {
   "cell_type": "code",
   "execution_count": null,
   "metadata": {},
   "outputs": [],
   "source": [
    "# This is an example for a service that utilizes D-Wave to calculate the shortest path in a graph visiting all nodes and\n",
    "# returning to the start location (travel_start) also known as the Travelling Salesman Problem.\n",
    "#\n",
    "# You can replace the code in this cell with your own code, and may add further cells below.\n",
    "#\n",
    "# NOTE: The last cell containing code must be the cell tagged with \"results\".\n",
    "\n",
    "import dwave_networkx as dnx\n",
    "import networkx as nx\n",
    "import dimod\n",
    "from dwave.system.samplers import DWaveSampler\n",
    "from dwave.system import LeapHybridSampler, DWaveSampler\n",
    "import matplotlib.pyplot as plt\n",
    "import random\n",
    "\n",
    "def draw_graph(G):\n",
    "    default_axes = plt.axes(frameon=True)\n",
    "    plt.figure(1, figsize=(100, 20), dpi=60)\n",
    "    plt.rcParams['figure.figsize'] = [20, 10]\n",
    "    pos=nx.spring_layout(G)\n",
    "    nx.draw_networkx(G, node_color='r', pos=pos, node_size=300, alpha=0.8, ax=default_axes)\n",
    "    edge_labels = nx.get_edge_attributes(G, \"weight\")\n",
    "    nx.draw_networkx_edge_labels(G, pos=pos, edge_labels=edge_labels)\n",
    "    plt.axis('off')\n",
    "    plt.show()\n",
    "\n",
    "def solution_cost(solution):\n",
    "    sum = 0\n",
    "    for i in range(1, len(solution)):\n",
    "        sum += G.edges[i, i-1]['weight']\n",
    "    return sum\n",
    "\n",
    "\n",
    "N = node_count\n",
    "G = nx.complete_graph(N, nx.Graph())\n",
    "random.seed(seed)\n",
    "for (start, end) in G.edges:\n",
    "    G.edges[start, end]['weight'] = round(random.random(),2)\n",
    "\n",
    "my_sampler = LeapHybridSampler(token=DWAVE_TOKEN)\n",
    "solution = dnx.traveling_salesperson(G, my_sampler, start=travel_start, label=f\"TSP (start={travel_start}, nodes={N})\")"
   ]
  },
  {
   "cell_type": "code",
   "execution_count": null,
   "metadata": {
    "tags": [
     "results"
    ]
   },
   "outputs": [],
   "source": [
    "''' This Cell is tagged with the \"results\" tag. Everything written to stdout will be returned by the service as\n",
    "the response. '''\n",
    "\n",
    "print(solution)"
   ]
  },
  {
   "cell_type": "markdown",
   "metadata": {},
   "source": [
    "## Building a Docker Container Locally\n",
    "\n",
    "To build your service container locally, use the `docker build` command.\n",
    "> **Note:** Ensure you have Docker installed on your machine.\n",
    "\n",
    "Alternatively, you can build your service container using GitLab’s CI/CD pipeline.\n",
    "See the next section for more details.\n",
    "\n",
    "---\n",
    "\n",
    "## Setting up CI Pipeline on GitLab (Optional)\n",
    "\n",
    "### 1. Create or Use an Existing GitLab Project\n",
    "\n",
    "Create a new GitLab project or use an existing one.\n",
    "\n",
    "   ![GitLab Project Settings](img/CI-settings.png?1)\n",
    "\n",
    "### 2. Enable GitLab Runner\n",
    "\n",
    "Navigate to **Project Settings &rarr; CI/CD &rarr; Runners** and enable a GitLab shell runner for the project.\n",
    "\n",
    "### 3. Create Access Token for Docker Registry\n",
    "\n",
    "Go to **Project Settings &rarr; Access Tokens**, and create an access token with read/write permissions to the Docker registry.\n",
    "\n",
    "### 4. Set Up CI/CD Variables\n",
    "\n",
    "Under **Project Settings &rarr; CI/CD &rarr; Variables**, add the following variables:\n",
    "\n",
    "- **`ACCESS_TOKEN:`**\n",
    "  Access token with read/write permissions to the container registry.\n",
    "\n",
    "- **`DOCKER_USERNAME:`**\n",
    "  Username for pushing and pulling Docker images.\n",
    "\n",
    "- **`DOCKER_REGISTRY:`**\n",
    "  Address of the Docker registry where images will be published.\n",
    "\n",
    "- **`DOCKER_IMAGE:`**\n",
    "  Address of the Docker registry and the name of the Docker image (without tags).\n",
    "\n",
    "- **`RUNNER_TAG:`**\n",
    "  Tag of the GitLab runner that will execute the jobs.\n",
    "\n",
    "   ![GitLab CI Variables](img/CI-variables.png)\n",
    "\n",
    "### 5. Import Service Directory into Repository\n",
    "\n",
    "Import the contents of your service directory into the repository.\n",
    "\n",
    "### 6. Pipeline Execution\n",
    "\n",
    "The pipeline will automatically execute, building and publishing the Docker image to the specified registry.\n",
    "\n",
    "### 7. Triggering the Pipeline\n",
    "\n",
    "The pipeline will run on any code changes but can also be triggered manually via **Project &rarr; Deploy/Pipelines**.\n",
    "\n",
    "## Setting up Deployment (CD Pipeline) on GitLab (Optional)\n",
    "\n",
    "### 1. Create or Use an Existing GitLab Project\n",
    "\n",
    "Follow the [steps for setting up a basic CI/CD pipeline](#setting-up-ci-pipeline-on-gitlab-(optional)) (steps 2, 3, and 4).\n",
    "\n",
    "### 2. Configure GitLab Project Variables\n",
    "\n",
    "Navigate to **Project Settings &rarr; CI/CD &rarr; Variables**, and add the following variables:\n",
    "\n",
    "- **`KUBERNETES_CONFIG:`**\n",
    "  Contains the Kubernetes configuration file used by `kubectl`, which holds information about clusters, users, and contexts.\n",
    "\n",
    "- **`KUBERNETES_NAMESPACE:`**\n",
    "  Specifies the name of the Kubernetes namespace where resources will be deployed. Ensure the namespace exists before deployment.\n",
    "\n",
    "- **`KUBERNETES_SERVICE_NODEPORT:`**\n",
    "  Defines the NodePort value for exposing a service on each node's IP at a static port. This allows external access to the service through the specified port, typically between `30000-32767`, enabling communication from outside the cluster.\n",
    "\n",
    "- **`KUBERNETES_MANIFEST_LOCATION:`**\n",
    "  Specifies the location of the Kubernetes manifests (YAML files) to be deployed.\n",
    "\n",
    "   ![Kubernetes Variables](img/CI-k8s-variables.png)\n",
    "\n",
    "### 3. Continue with CI Pipeline Setup\n",
    "\n",
    "Proceed with the [remaining CI pipeline setup steps](#setting-up-ci-pipeline-on-gitlab-(optional)) (steps 5, 6, and 7).\n",
    "\n",
    "### 4. Automatic Deployment Execution\n",
    "\n",
    "Once the container is published, the deployment phase will automatically execute.\n"
   ]
  }
 ],
 "metadata": {
  "kernelspec": {
   "display_name": ".venv",
   "language": "python",
   "name": "python3"
  },
  "language_info": {
   "codemirror_mode": {
    "name": "ipython",
    "version": 3
   },
   "file_extension": ".py",
   "mimetype": "text/x-python",
   "name": "python",
   "nbconvert_exporter": "python",
   "pygments_lexer": "ipython3",
   "version": "3.11.10"
  }
 },
 "nbformat": 4,
 "nbformat_minor": 2
}
